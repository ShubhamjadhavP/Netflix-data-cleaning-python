{
 "cells": [
  {
   "cell_type": "code",
   "execution_count": 3,
   "id": "9d90581f-2267-44fe-823f-1e415140e7b4",
   "metadata": {},
   "outputs": [
    {
     "name": "stdout",
     "output_type": "stream",
     "text": [
      "<class 'pandas.core.frame.DataFrame'>\n",
      "RangeIndex: 8807 entries, 0 to 8806\n",
      "Data columns (total 12 columns):\n",
      " #   Column        Non-Null Count  Dtype \n",
      "---  ------        --------------  ----- \n",
      " 0   show_id       8807 non-null   object\n",
      " 1   type          8807 non-null   object\n",
      " 2   title         8807 non-null   object\n",
      " 3   director      6173 non-null   object\n",
      " 4   cast          7982 non-null   object\n",
      " 5   country       7976 non-null   object\n",
      " 6   date_added    8797 non-null   object\n",
      " 7   release_year  8807 non-null   int64 \n",
      " 8   rating        8803 non-null   object\n",
      " 9   duration      8804 non-null   object\n",
      " 10  listed_in     8807 non-null   object\n",
      " 11  description   8807 non-null   object\n",
      "dtypes: int64(1), object(11)\n",
      "memory usage: 825.8+ KB\n",
      "None\n",
      "  show_id     type                  title         director  \\\n",
      "0      s1    Movie   Dick Johnson Is Dead  Kirsten Johnson   \n",
      "1      s2  TV Show          Blood & Water              NaN   \n",
      "2      s3  TV Show              Ganglands  Julien Leclercq   \n",
      "3      s4  TV Show  Jailbirds New Orleans              NaN   \n",
      "4      s5  TV Show           Kota Factory              NaN   \n",
      "\n",
      "                                                cast        country  \\\n",
      "0                                                NaN  United States   \n",
      "1  Ama Qamata, Khosi Ngema, Gail Mabalane, Thaban...   South Africa   \n",
      "2  Sami Bouajila, Tracy Gotoas, Samuel Jouy, Nabi...            NaN   \n",
      "3                                                NaN            NaN   \n",
      "4  Mayur More, Jitendra Kumar, Ranjan Raj, Alam K...          India   \n",
      "\n",
      "           date_added  release_year rating   duration  \\\n",
      "0  September 25, 2021          2020  PG-13     90 min   \n",
      "1  September 24, 2021          2021  TV-MA  2 Seasons   \n",
      "2  September 24, 2021          2021  TV-MA   1 Season   \n",
      "3  September 24, 2021          2021  TV-MA   1 Season   \n",
      "4  September 24, 2021          2021  TV-MA  2 Seasons   \n",
      "\n",
      "                                           listed_in  \\\n",
      "0                                      Documentaries   \n",
      "1    International TV Shows, TV Dramas, TV Mysteries   \n",
      "2  Crime TV Shows, International TV Shows, TV Act...   \n",
      "3                             Docuseries, Reality TV   \n",
      "4  International TV Shows, Romantic TV Shows, TV ...   \n",
      "\n",
      "                                         description  \n",
      "0  As her father nears the end of his life, filmm...  \n",
      "1  After crossing paths at a party, a Cape Town t...  \n",
      "2  To protect his family from a powerful drug lor...  \n",
      "3  Feuds, flirtations and toilet talk go down amo...  \n",
      "4  In a city of coaching centers known to train I...  \n"
     ]
    }
   ],
   "source": [
    "import pandas as pd\n",
    "\n",
    "df = pd.read_csv(r'D:\\pythone data cleaning project\\netflix_titles(1).csv')  # or your path\n",
    "print(df.info())\n",
    "print(df.head())"
   ]
  },
  {
   "cell_type": "code",
   "execution_count": 5,
   "id": "03cc3ec7-35d5-45ac-b0aa-cc2fe4f7ee2a",
   "metadata": {},
   "outputs": [
    {
     "data": {
      "text/plain": [
       "show_id            0\n",
       "type               0\n",
       "title              0\n",
       "director        2634\n",
       "cast             825\n",
       "country          831\n",
       "date_added        10\n",
       "release_year       0\n",
       "rating             4\n",
       "duration           3\n",
       "listed_in          0\n",
       "description        0\n",
       "dtype: int64"
      ]
     },
     "execution_count": 5,
     "metadata": {},
     "output_type": "execute_result"
    }
   ],
   "source": [
    "df.isnull().sum()"
   ]
  },
  {
   "cell_type": "code",
   "execution_count": 27,
   "id": "cce409ca-aaec-4df8-ba7e-01915a05ea98",
   "metadata": {},
   "outputs": [],
   "source": [
    "df['country'] = df['country'].fillna('Unknown')\n",
    "df['director'] = df['director'].fillna('Unknown')\n",
    "df['cast'] = df['cast'].fillna('Unknown')"
   ]
  },
  {
   "cell_type": "code",
   "execution_count": 13,
   "id": "138a9e1f-76d4-4061-bf1d-c837838dfcfc",
   "metadata": {},
   "outputs": [],
   "source": [
    "df['date_added'] = df['date_added'].str.strip()"
   ]
  },
  {
   "cell_type": "code",
   "execution_count": 15,
   "id": "473f7f6b-0a8d-498e-9a01-33c4005b5449",
   "metadata": {},
   "outputs": [],
   "source": [
    "df['date_added'] = pd.to_datetime(df['date_added'], errors='coerce')"
   ]
  },
  {
   "cell_type": "code",
   "execution_count": 17,
   "id": "c7517e7d-8499-4438-9b68-59692edca1ae",
   "metadata": {},
   "outputs": [],
   "source": [
    "df['date_added'] = df.apply(\n",
    "    lambda row: pd.Timestamp(f\"{row['release_year']}-06-01\") if pd.isna(row['date_added']) else row['date_added'],\n",
    "    axis=1\n",
    ")"
   ]
  },
  {
   "cell_type": "code",
   "execution_count": 19,
   "id": "53df15b0-c9cb-4474-b95f-1b10ecb74b0c",
   "metadata": {},
   "outputs": [],
   "source": [
    "df.to_csv('cleaned_netflix_titles.csv', index=False)"
   ]
  },
  {
   "cell_type": "code",
   "execution_count": 21,
   "id": "a43fc6e1-ff04-43d2-b423-44a8d2959b66",
   "metadata": {},
   "outputs": [
    {
     "name": "stdout",
     "output_type": "stream",
     "text": [
      "  show_id     type                  title         director  \\\n",
      "0      s1    Movie   Dick Johnson Is Dead  Kirsten Johnson   \n",
      "1      s2  TV Show          Blood & Water          Unknown   \n",
      "2      s3  TV Show              Ganglands  Julien Leclercq   \n",
      "3      s4  TV Show  Jailbirds New Orleans          Unknown   \n",
      "4      s5  TV Show           Kota Factory          Unknown   \n",
      "\n",
      "                                                cast        country  \\\n",
      "0                                            Unknown  United States   \n",
      "1  Ama Qamata, Khosi Ngema, Gail Mabalane, Thaban...   South Africa   \n",
      "2  Sami Bouajila, Tracy Gotoas, Samuel Jouy, Nabi...        Unknown   \n",
      "3                                            Unknown        Unknown   \n",
      "4  Mayur More, Jitendra Kumar, Ranjan Raj, Alam K...          India   \n",
      "\n",
      "   date_added  release_year rating   duration  \\\n",
      "0  2021-09-25          2020  PG-13     90 min   \n",
      "1  2021-09-24          2021  TV-MA  2 Seasons   \n",
      "2  2021-09-24          2021  TV-MA   1 Season   \n",
      "3  2021-09-24          2021  TV-MA   1 Season   \n",
      "4  2021-09-24          2021  TV-MA  2 Seasons   \n",
      "\n",
      "                                           listed_in  \\\n",
      "0                                      Documentaries   \n",
      "1    International TV Shows, TV Dramas, TV Mysteries   \n",
      "2  Crime TV Shows, International TV Shows, TV Act...   \n",
      "3                             Docuseries, Reality TV   \n",
      "4  International TV Shows, Romantic TV Shows, TV ...   \n",
      "\n",
      "                                         description  \n",
      "0  As her father nears the end of his life, filmm...  \n",
      "1  After crossing paths at a party, a Cape Town t...  \n",
      "2  To protect his family from a powerful drug lor...  \n",
      "3  Feuds, flirtations and toilet talk go down amo...  \n",
      "4  In a city of coaching centers known to train I...  \n"
     ]
    }
   ],
   "source": [
    "df_exported = pd.read_csv('cleaned_netflix_titles.csv')\n",
    "print(df_exported.head())"
   ]
  },
  {
   "cell_type": "code",
   "execution_count": 23,
   "id": "114097d0-cd77-4fb6-99d9-45da5e0a86a1",
   "metadata": {},
   "outputs": [
    {
     "data": {
      "text/html": [
       "<a href='cleaned_netflix_titles.csv' target='_blank'>cleaned_netflix_titles.csv</a><br>"
      ],
      "text/plain": [
       "C:\\Users\\SHUBHAM\\cleaned_netflix_titles.csv"
      ]
     },
     "execution_count": 23,
     "metadata": {},
     "output_type": "execute_result"
    }
   ],
   "source": [
    "from IPython.display import FileLink\n",
    "\n",
    "# Save to current directory\n",
    "df.to_csv('cleaned_netflix_titles.csv', index=False)\n",
    "\n",
    "# Provide a clickable download link\n",
    "FileLink('cleaned_netflix_titles.csv')"
   ]
  },
  {
   "cell_type": "code",
   "execution_count": 31,
   "id": "524bda84-8e00-48c9-af69-878cdd26dd8b",
   "metadata": {},
   "outputs": [],
   "source": [
    "df['duration'] = df['duration'].fillna('Unknown')\n",
    "df['rating'] = df['rating'].fillna('Unknown')"
   ]
  },
  {
   "cell_type": "code",
   "execution_count": 33,
   "id": "1a3f35e2-a823-4f39-9ec8-1d1a28965e29",
   "metadata": {},
   "outputs": [],
   "source": [
    "df['title'] = df['title'].str.strip()\n",
    "df['type'] = df['type'].str.title()  # Movie, Tv Show"
   ]
  },
  {
   "cell_type": "code",
   "execution_count": 35,
   "id": "65bfe1dd-4c68-46f7-8025-677f84d7b819",
   "metadata": {},
   "outputs": [],
   "source": [
    "df['rating'] = df['rating'].replace('Unknown', 'Not Rated')"
   ]
  },
  {
   "cell_type": "code",
   "execution_count": 37,
   "id": "8d98f660-b48c-47b9-9ddc-28e89f3abf6c",
   "metadata": {},
   "outputs": [
    {
     "name": "stdout",
     "output_type": "stream",
     "text": [
      "rating\n",
      "TV-MA        3207\n",
      "TV-14        2160\n",
      "TV-PG         863\n",
      "R             799\n",
      "PG-13         490\n",
      "TV-Y7         334\n",
      "TV-Y          307\n",
      "PG            287\n",
      "TV-G          220\n",
      "NR             80\n",
      "G              41\n",
      "TV-Y7-FV        6\n",
      "Not Rated       4\n",
      "NC-17           3\n",
      "UR              3\n",
      "74 min          1\n",
      "84 min          1\n",
      "66 min          1\n",
      "Name: count, dtype: int64\n"
     ]
    }
   ],
   "source": [
    "print(df['rating'].value_counts())"
   ]
  },
  {
   "cell_type": "code",
   "execution_count": 39,
   "id": "28797244-0712-4b31-b8eb-880befeb956e",
   "metadata": {},
   "outputs": [
    {
     "data": {
      "text/html": [
       "<div>\n",
       "<style scoped>\n",
       "    .dataframe tbody tr th:only-of-type {\n",
       "        vertical-align: middle;\n",
       "    }\n",
       "\n",
       "    .dataframe tbody tr th {\n",
       "        vertical-align: top;\n",
       "    }\n",
       "\n",
       "    .dataframe thead th {\n",
       "        text-align: right;\n",
       "    }\n",
       "</style>\n",
       "<table border=\"1\" class=\"dataframe\">\n",
       "  <thead>\n",
       "    <tr style=\"text-align: right;\">\n",
       "      <th></th>\n",
       "      <th>show_id</th>\n",
       "      <th>type</th>\n",
       "      <th>title</th>\n",
       "      <th>director</th>\n",
       "      <th>cast</th>\n",
       "      <th>country</th>\n",
       "      <th>date_added</th>\n",
       "      <th>release_year</th>\n",
       "      <th>rating</th>\n",
       "      <th>duration</th>\n",
       "      <th>listed_in</th>\n",
       "      <th>description</th>\n",
       "    </tr>\n",
       "  </thead>\n",
       "  <tbody>\n",
       "    <tr>\n",
       "      <th>5541</th>\n",
       "      <td>s5542</td>\n",
       "      <td>Movie</td>\n",
       "      <td>Louis C.K. 2017</td>\n",
       "      <td>Louis C.K.</td>\n",
       "      <td>Louis C.K.</td>\n",
       "      <td>United States</td>\n",
       "      <td>2017-04-04</td>\n",
       "      <td>2017</td>\n",
       "      <td>74 min</td>\n",
       "      <td>Unknown</td>\n",
       "      <td>Movies</td>\n",
       "      <td>Louis C.K. muses on religion, eternal love, gi...</td>\n",
       "    </tr>\n",
       "    <tr>\n",
       "      <th>5794</th>\n",
       "      <td>s5795</td>\n",
       "      <td>Movie</td>\n",
       "      <td>Louis C.K.: Hilarious</td>\n",
       "      <td>Louis C.K.</td>\n",
       "      <td>Louis C.K.</td>\n",
       "      <td>United States</td>\n",
       "      <td>2016-09-16</td>\n",
       "      <td>2010</td>\n",
       "      <td>84 min</td>\n",
       "      <td>Unknown</td>\n",
       "      <td>Movies</td>\n",
       "      <td>Emmy-winning comedy writer Louis C.K. brings h...</td>\n",
       "    </tr>\n",
       "    <tr>\n",
       "      <th>5813</th>\n",
       "      <td>s5814</td>\n",
       "      <td>Movie</td>\n",
       "      <td>Louis C.K.: Live at the Comedy Store</td>\n",
       "      <td>Louis C.K.</td>\n",
       "      <td>Louis C.K.</td>\n",
       "      <td>United States</td>\n",
       "      <td>2016-08-15</td>\n",
       "      <td>2015</td>\n",
       "      <td>66 min</td>\n",
       "      <td>Unknown</td>\n",
       "      <td>Movies</td>\n",
       "      <td>The comic puts his trademark hilarious/thought...</td>\n",
       "    </tr>\n",
       "  </tbody>\n",
       "</table>\n",
       "</div>"
      ],
      "text/plain": [
       "     show_id   type                                 title    director  \\\n",
       "5541   s5542  Movie                       Louis C.K. 2017  Louis C.K.   \n",
       "5794   s5795  Movie                 Louis C.K.: Hilarious  Louis C.K.   \n",
       "5813   s5814  Movie  Louis C.K.: Live at the Comedy Store  Louis C.K.   \n",
       "\n",
       "            cast        country date_added  release_year  rating duration  \\\n",
       "5541  Louis C.K.  United States 2017-04-04          2017  74 min  Unknown   \n",
       "5794  Louis C.K.  United States 2016-09-16          2010  84 min  Unknown   \n",
       "5813  Louis C.K.  United States 2016-08-15          2015  66 min  Unknown   \n",
       "\n",
       "     listed_in                                        description  \n",
       "5541    Movies  Louis C.K. muses on religion, eternal love, gi...  \n",
       "5794    Movies  Emmy-winning comedy writer Louis C.K. brings h...  \n",
       "5813    Movies  The comic puts his trademark hilarious/thought...  "
      ]
     },
     "execution_count": 39,
     "metadata": {},
     "output_type": "execute_result"
    }
   ],
   "source": [
    "# Check rows where 'rating' is a duration instead of an actual rating\n",
    "df[df['rating'].str.contains('min', na=False)]"
   ]
  },
  {
   "cell_type": "code",
   "execution_count": 41,
   "id": "b5621d74-3fe7-41a6-b1be-b3b6fadf7dca",
   "metadata": {},
   "outputs": [],
   "source": [
    "# Move misplaced duration from 'rating' to 'duration' if 'rating' contains 'min'\n",
    "mask = df['rating'].str.contains('min', na=False)\n",
    "\n",
    "# Set those duration values\n",
    "df.loc[mask, 'duration'] = df.loc[mask, 'rating']\n",
    "\n",
    "# Now fix the 'rating' back to 'Not Rated'\n",
    "df.loc[mask, 'rating'] = 'Not Rated'"
   ]
  },
  {
   "cell_type": "code",
   "execution_count": 43,
   "id": "60a828ea-fc22-494e-a6e7-e182176f4ff2",
   "metadata": {},
   "outputs": [
    {
     "name": "stdout",
     "output_type": "stream",
     "text": [
      "Empty DataFrame\n",
      "Columns: [show_id, type, title, director, cast, country, date_added, release_year, rating, duration, listed_in, description]\n",
      "Index: []\n",
      "rating\n",
      "TV-MA        3207\n",
      "TV-14        2160\n",
      "TV-PG         863\n",
      "R             799\n",
      "PG-13         490\n",
      "TV-Y7         334\n",
      "TV-Y          307\n",
      "PG            287\n",
      "TV-G          220\n",
      "NR             80\n",
      "G              41\n",
      "Not Rated       7\n",
      "TV-Y7-FV        6\n",
      "NC-17           3\n",
      "UR              3\n",
      "Name: count, dtype: int64\n",
      "duration\n",
      "1 Season     1793\n",
      "2 Seasons     425\n",
      "3 Seasons     199\n",
      "90 min        152\n",
      "94 min        146\n",
      "             ... \n",
      "16 min          1\n",
      "186 min         1\n",
      "193 min         1\n",
      "189 min         1\n",
      "191 min         1\n",
      "Name: count, Length: 220, dtype: int64\n"
     ]
    }
   ],
   "source": [
    "print(df[df['rating'].str.contains('min', na=False)])\n",
    "print(df['rating'].value_counts())\n",
    "print(df['duration'].value_counts())"
   ]
  },
  {
   "cell_type": "code",
   "execution_count": 45,
   "id": "7efca864-53c7-4436-822c-df5c32b3ed85",
   "metadata": {},
   "outputs": [],
   "source": [
    "df.duplicated().sum()  # total duplicates\n",
    "df.drop_duplicates(inplace=True)"
   ]
  },
  {
   "cell_type": "code",
   "execution_count": 49,
   "id": "4e3e440a-7a9a-4c40-a665-d6f614ccb193",
   "metadata": {},
   "outputs": [
    {
     "data": {
      "text/plain": [
       "<Axes: >"
      ]
     },
     "execution_count": 49,
     "metadata": {},
     "output_type": "execute_result"
    },
    {
     "data": {
      "image/png": "[encoded data removed]",
      "text/plain": [
       "<Figure size 2500x1000 with 2 Axes>"
      ]
     },
     "metadata": {},
     "output_type": "display_data"
    }
   ],
   "source": [
    "import missingno as msno\n",
    "msno.matrix(df)"
   ]
  },
  {
   "cell_type": "code",
   "execution_count": 51,
   "id": "13766952-30ef-4d6f-a536-62832387aa58",
   "metadata": {},
   "outputs": [
    {
     "data": {
      "text/html": [
       "<a href='cleaned_netflix_titles.csv' target='_blank'>cleaned_netflix_titles.csv</a><br>"
      ],
      "text/plain": [
       "C:\\Users\\SHUBHAM\\cleaned_netflix_titles.csv"
      ]
     },
     "execution_count": 51,
     "metadata": {},
     "output_type": "execute_result"
    }
   ],
   "source": [
    "from IPython.display import FileLink\n",
    "\n",
    "# Save to current directory\n",
    "df.to_csv('cleaned_netflix_titles.csv', index=False)\n",
    "\n",
    "# Provide a clickable download link\n",
    "FileLink('cleaned_netflix_titles.csv')"
   ]
  },
  {
   "cell_type": "code",
   "execution_count": null,
   "id": "11e634aa-e305-4aeb-8a47-b97187c67877",
   "metadata": {},
   "outputs": [],
   "source": []
  }
 ],
 "metadata": {
  "kernelspec": {
   "display_name": "Python 3 (ipykernel)",
   "language": "python",
   "name": "python3"
  },
  "language_info": {
   "codemirror_mode": {
    "name": "ipython",
    "version": 3
   },
   "file_extension": ".py",
   "mimetype": "text/x-python",
   "name": "python",
   "nbconvert_exporter": "python",
   "pygments_lexer": "ipython3",
   "version": "3.12.4"
  }
 },
 "nbformat": 4,
 "nbformat_minor": 5
}
